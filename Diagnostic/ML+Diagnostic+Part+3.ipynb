{
 "cells": [
  {
   "cell_type": "markdown",
   "metadata": {},
   "source": [
    "# Part A"
   ]
  },
  {
   "cell_type": "markdown",
   "metadata": {},
   "source": [
    "# Graffiti Database"
   ]
  },
  {
   "cell_type": "code",
   "execution_count": 87,
   "metadata": {
    "collapsed": true
   },
   "outputs": [],
   "source": [
    "import pandas as pd\n",
    "import numpy as np"
   ]
  },
  {
   "cell_type": "code",
   "execution_count": 88,
   "metadata": {
    "collapsed": true
   },
   "outputs": [],
   "source": [
    "graffiti = pd.read_csv(\"311_Service_Requests_-_Graffiti_Removal.csv\")"
   ]
  },
  {
   "cell_type": "code",
   "execution_count": 89,
   "metadata": {
    "collapsed": false
   },
   "outputs": [
    {
     "data": {
      "text/html": [
       "<div>\n",
       "<table border=\"1\" class=\"dataframe\">\n",
       "  <thead>\n",
       "    <tr style=\"text-align: right;\">\n",
       "      <th></th>\n",
       "      <th>Creation Date</th>\n",
       "      <th>Status</th>\n",
       "      <th>Completion Date</th>\n",
       "      <th>Service Request Number</th>\n",
       "      <th>Type of Service Request</th>\n",
       "      <th>What Type of Surface is the Graffiti on?</th>\n",
       "      <th>Where is the Graffiti located?</th>\n",
       "      <th>Street Address</th>\n",
       "      <th>ZIP Code</th>\n",
       "      <th>X Coordinate</th>\n",
       "      <th>Y Coordinate</th>\n",
       "      <th>Ward</th>\n",
       "      <th>Police District</th>\n",
       "      <th>Community Area</th>\n",
       "      <th>SSA</th>\n",
       "      <th>Latitude</th>\n",
       "      <th>Longitude</th>\n",
       "      <th>Location</th>\n",
       "    </tr>\n",
       "  </thead>\n",
       "  <tbody>\n",
       "    <tr>\n",
       "      <th>0</th>\n",
       "      <td>01/01/2016</td>\n",
       "      <td>Completed</td>\n",
       "      <td>01/04/2016</td>\n",
       "      <td>16-00001120</td>\n",
       "      <td>Graffiti Removal</td>\n",
       "      <td>Brick - Unpainted</td>\n",
       "      <td>Front</td>\n",
       "      <td>4002 W BELDEN AVE</td>\n",
       "      <td>60639.0</td>\n",
       "      <td>1.149326e+06</td>\n",
       "      <td>1.914986e+06</td>\n",
       "      <td>35.0</td>\n",
       "      <td>25.0</td>\n",
       "      <td>20.0</td>\n",
       "      <td>NaN</td>\n",
       "      <td>41.922754</td>\n",
       "      <td>-87.72692</td>\n",
       "      <td>(41.92275371369149, -87.72691963120627)</td>\n",
       "    </tr>\n",
       "  </tbody>\n",
       "</table>\n",
       "</div>"
      ],
      "text/plain": [
       "  Creation Date     Status Completion Date Service Request Number  \\\n",
       "0    01/01/2016  Completed      01/04/2016            16-00001120   \n",
       "\n",
       "  Type of Service Request What Type of Surface is the Graffiti on?  \\\n",
       "0        Graffiti Removal                        Brick - Unpainted   \n",
       "\n",
       "  Where is the Graffiti located?     Street Address  ZIP Code  X Coordinate  \\\n",
       "0                          Front  4002 W BELDEN AVE   60639.0  1.149326e+06   \n",
       "\n",
       "   Y Coordinate  Ward  Police District  Community Area  SSA   Latitude  \\\n",
       "0  1.914986e+06  35.0             25.0            20.0  NaN  41.922754   \n",
       "\n",
       "   Longitude                                 Location  \n",
       "0  -87.72692  (41.92275371369149, -87.72691963120627)  "
      ]
     },
     "execution_count": 89,
     "metadata": {},
     "output_type": "execute_result"
    }
   ],
   "source": [
    "graffiti.head(1)"
   ]
  },
  {
   "cell_type": "code",
   "execution_count": 90,
   "metadata": {
    "collapsed": false
   },
   "outputs": [
    {
     "data": {
      "text/plain": [
       "(120461, 18)"
      ]
     },
     "execution_count": 90,
     "metadata": {},
     "output_type": "execute_result"
    }
   ],
   "source": [
    "graffiti.shape"
   ]
  },
  {
   "cell_type": "code",
   "execution_count": 91,
   "metadata": {
    "collapsed": false
   },
   "outputs": [
    {
     "data": {
      "text/html": [
       "<div>\n",
       "<table border=\"1\" class=\"dataframe\">\n",
       "  <thead>\n",
       "    <tr style=\"text-align: right;\">\n",
       "      <th></th>\n",
       "      <th>Creation Date</th>\n",
       "      <th>Status</th>\n",
       "      <th>Completion Date</th>\n",
       "      <th>Service Request Number</th>\n",
       "      <th>Type of Service Request</th>\n",
       "      <th>What Type of Surface is the Graffiti on?</th>\n",
       "      <th>Where is the Graffiti located?</th>\n",
       "      <th>Street Address</th>\n",
       "      <th>ZIP Code</th>\n",
       "      <th>X Coordinate</th>\n",
       "      <th>Y Coordinate</th>\n",
       "      <th>Ward</th>\n",
       "      <th>Police District</th>\n",
       "      <th>Community Area</th>\n",
       "      <th>SSA</th>\n",
       "      <th>Latitude</th>\n",
       "      <th>Longitude</th>\n",
       "      <th>Location</th>\n",
       "    </tr>\n",
       "  </thead>\n",
       "  <tbody>\n",
       "  </tbody>\n",
       "</table>\n",
       "</div>"
      ],
      "text/plain": [
       "Empty DataFrame\n",
       "Columns: [Creation Date, Status, Completion Date, Service Request Number, Type of Service Request, What Type of Surface is the Graffiti on?, Where is the Graffiti located?, Street Address, ZIP Code, X Coordinate, Y Coordinate, Ward, Police District, Community Area, SSA, Latitude, Longitude, Location]\n",
       "Index: []"
      ]
     },
     "execution_count": 91,
     "metadata": {},
     "output_type": "execute_result"
    }
   ],
   "source": [
    "graffiti[graffiti[\"Street Address\"] == \"7500 S Wolcott Ave\"]"
   ]
  },
  {
   "cell_type": "code",
   "execution_count": 92,
   "metadata": {
    "collapsed": false
   },
   "outputs": [
    {
     "data": {
      "text/html": [
       "<div>\n",
       "<table border=\"1\" class=\"dataframe\">\n",
       "  <thead>\n",
       "    <tr style=\"text-align: right;\">\n",
       "      <th></th>\n",
       "      <th>Creation Date</th>\n",
       "      <th>Status</th>\n",
       "      <th>Completion Date</th>\n",
       "      <th>Service Request Number</th>\n",
       "      <th>Type of Service Request</th>\n",
       "      <th>What Type of Surface is the Graffiti on?</th>\n",
       "      <th>Where is the Graffiti located?</th>\n",
       "      <th>Street Address</th>\n",
       "      <th>ZIP Code</th>\n",
       "      <th>X Coordinate</th>\n",
       "      <th>Y Coordinate</th>\n",
       "      <th>Ward</th>\n",
       "      <th>Police District</th>\n",
       "      <th>Community Area</th>\n",
       "      <th>SSA</th>\n",
       "      <th>Latitude</th>\n",
       "      <th>Longitude</th>\n",
       "      <th>Location</th>\n",
       "    </tr>\n",
       "  </thead>\n",
       "  <tbody>\n",
       "  </tbody>\n",
       "</table>\n",
       "</div>"
      ],
      "text/plain": [
       "Empty DataFrame\n",
       "Columns: [Creation Date, Status, Completion Date, Service Request Number, Type of Service Request, What Type of Surface is the Graffiti on?, Where is the Graffiti located?, Street Address, ZIP Code, X Coordinate, Y Coordinate, Ward, Police District, Community Area, SSA, Latitude, Longitude, Location]\n",
       "Index: []"
      ]
     },
     "execution_count": 92,
     "metadata": {},
     "output_type": "execute_result"
    }
   ],
   "source": [
    "graffiti[graffiti[\"Street Address\"] == \"7500 S WOLCOTT AVE\"]"
   ]
  },
  {
   "cell_type": "code",
   "execution_count": 93,
   "metadata": {
    "collapsed": false
   },
   "outputs": [
    {
     "data": {
      "text/html": [
       "<div>\n",
       "<table border=\"1\" class=\"dataframe\">\n",
       "  <thead>\n",
       "    <tr style=\"text-align: right;\">\n",
       "      <th></th>\n",
       "      <th>Creation Date</th>\n",
       "      <th>Status</th>\n",
       "      <th>Completion Date</th>\n",
       "      <th>Service Request Number</th>\n",
       "      <th>Type of Service Request</th>\n",
       "      <th>What Type of Surface is the Graffiti on?</th>\n",
       "      <th>Where is the Graffiti located?</th>\n",
       "      <th>Street Address</th>\n",
       "      <th>ZIP Code</th>\n",
       "      <th>X Coordinate</th>\n",
       "      <th>Y Coordinate</th>\n",
       "      <th>Ward</th>\n",
       "      <th>Police District</th>\n",
       "      <th>Community Area</th>\n",
       "      <th>SSA</th>\n",
       "      <th>Latitude</th>\n",
       "      <th>Longitude</th>\n",
       "      <th>Location</th>\n",
       "    </tr>\n",
       "  </thead>\n",
       "  <tbody>\n",
       "  </tbody>\n",
       "</table>\n",
       "</div>"
      ],
      "text/plain": [
       "Empty DataFrame\n",
       "Columns: [Creation Date, Status, Completion Date, Service Request Number, Type of Service Request, What Type of Surface is the Graffiti on?, Where is the Graffiti located?, Street Address, ZIP Code, X Coordinate, Y Coordinate, Ward, Police District, Community Area, SSA, Latitude, Longitude, Location]\n",
       "Index: []"
      ]
     },
     "execution_count": 93,
     "metadata": {},
     "output_type": "execute_result"
    }
   ],
   "source": [
    "graffiti[graffiti[\"Street Address\"] == \"7500 s wolcott ave\"]"
   ]
  },
  {
   "cell_type": "markdown",
   "metadata": {},
   "source": [
    "From the above shows that the address 7500 S Wolcorr Ave is not present in our database. Thus, it has a 0 probability of appearing for this database.\n",
    "\n",
    "We used different variations of the same address to check for inconsistencies in data entry."
   ]
  },
  {
   "cell_type": "markdown",
   "metadata": {},
   "source": [
    "# Sanitation Database"
   ]
  },
  {
   "cell_type": "code",
   "execution_count": 94,
   "metadata": {
    "collapsed": true
   },
   "outputs": [],
   "source": [
    "sanitation = pd.read_csv(\"311_Service_Requests_-_Sanitation_Code_Complaints.csv\")"
   ]
  },
  {
   "cell_type": "code",
   "execution_count": 95,
   "metadata": {
    "collapsed": false
   },
   "outputs": [
    {
     "data": {
      "text/html": [
       "<div>\n",
       "<table border=\"1\" class=\"dataframe\">\n",
       "  <thead>\n",
       "    <tr style=\"text-align: right;\">\n",
       "      <th></th>\n",
       "      <th>Creation Date</th>\n",
       "      <th>Status</th>\n",
       "      <th>Completion Date</th>\n",
       "      <th>Service Request Number</th>\n",
       "      <th>Type of Service Request</th>\n",
       "      <th>What is the Nature of this Code Violation?</th>\n",
       "      <th>Street Address</th>\n",
       "      <th>ZIP Code</th>\n",
       "      <th>X Coordinate</th>\n",
       "      <th>Y Coordinate</th>\n",
       "      <th>Ward</th>\n",
       "      <th>Police District</th>\n",
       "      <th>Community Area</th>\n",
       "      <th>Latitude</th>\n",
       "      <th>Longitude</th>\n",
       "      <th>Location</th>\n",
       "    </tr>\n",
       "  </thead>\n",
       "  <tbody>\n",
       "    <tr>\n",
       "      <th>0</th>\n",
       "      <td>01/01/2016</td>\n",
       "      <td>Completed</td>\n",
       "      <td>01/04/2016</td>\n",
       "      <td>16-00005911</td>\n",
       "      <td>Sanitation Code Violation</td>\n",
       "      <td>Dumpster not being emptied</td>\n",
       "      <td>18 N TALMAN AVE</td>\n",
       "      <td>60612.0</td>\n",
       "      <td>1.158853e+06</td>\n",
       "      <td>1.899917e+06</td>\n",
       "      <td>27</td>\n",
       "      <td>12</td>\n",
       "      <td>27</td>\n",
       "      <td>41.881106</td>\n",
       "      <td>-87.692162</td>\n",
       "      <td>(41.88110597862378, -87.69216226978267)</td>\n",
       "    </tr>\n",
       "  </tbody>\n",
       "</table>\n",
       "</div>"
      ],
      "text/plain": [
       "  Creation Date     Status Completion Date Service Request Number  \\\n",
       "0    01/01/2016  Completed      01/04/2016            16-00005911   \n",
       "\n",
       "     Type of Service Request What is the Nature of this Code Violation?  \\\n",
       "0  Sanitation Code Violation                 Dumpster not being emptied   \n",
       "\n",
       "    Street Address  ZIP Code  X Coordinate  Y Coordinate  Ward  \\\n",
       "0  18 N TALMAN AVE   60612.0  1.158853e+06  1.899917e+06    27   \n",
       "\n",
       "   Police District  Community Area   Latitude  Longitude  \\\n",
       "0               12              27  41.881106 -87.692162   \n",
       "\n",
       "                                  Location  \n",
       "0  (41.88110597862378, -87.69216226978267)  "
      ]
     },
     "execution_count": 95,
     "metadata": {},
     "output_type": "execute_result"
    }
   ],
   "source": [
    "sanitation.head(1)"
   ]
  },
  {
   "cell_type": "code",
   "execution_count": 96,
   "metadata": {
    "collapsed": false
   },
   "outputs": [
    {
     "data": {
      "text/plain": [
       "(21139, 16)"
      ]
     },
     "execution_count": 96,
     "metadata": {},
     "output_type": "execute_result"
    }
   ],
   "source": [
    "sanitation.shape"
   ]
  },
  {
   "cell_type": "code",
   "execution_count": 97,
   "metadata": {
    "collapsed": false
   },
   "outputs": [
    {
     "data": {
      "text/html": [
       "<div>\n",
       "<table border=\"1\" class=\"dataframe\">\n",
       "  <thead>\n",
       "    <tr style=\"text-align: right;\">\n",
       "      <th></th>\n",
       "      <th>Creation Date</th>\n",
       "      <th>Status</th>\n",
       "      <th>Completion Date</th>\n",
       "      <th>Service Request Number</th>\n",
       "      <th>Type of Service Request</th>\n",
       "      <th>What is the Nature of this Code Violation?</th>\n",
       "      <th>Street Address</th>\n",
       "      <th>ZIP Code</th>\n",
       "      <th>X Coordinate</th>\n",
       "      <th>Y Coordinate</th>\n",
       "      <th>Ward</th>\n",
       "      <th>Police District</th>\n",
       "      <th>Community Area</th>\n",
       "      <th>Latitude</th>\n",
       "      <th>Longitude</th>\n",
       "      <th>Location</th>\n",
       "    </tr>\n",
       "  </thead>\n",
       "  <tbody>\n",
       "    <tr>\n",
       "      <th>4297</th>\n",
       "      <td>04/14/2016</td>\n",
       "      <td>Completed</td>\n",
       "      <td>04/22/2016</td>\n",
       "      <td>16-02502456</td>\n",
       "      <td>Sanitation Code Violation</td>\n",
       "      <td>Garbage in alley</td>\n",
       "      <td>7500 S WOLCOTT AVE</td>\n",
       "      <td>60620.0</td>\n",
       "      <td>1.164988e+06</td>\n",
       "      <td>1.854895e+06</td>\n",
       "      <td>17</td>\n",
       "      <td>6</td>\n",
       "      <td>71</td>\n",
       "      <td>41.757433</td>\n",
       "      <td>-87.670907</td>\n",
       "      <td>(41.75743294325899, -87.67090742952253)</td>\n",
       "    </tr>\n",
       "  </tbody>\n",
       "</table>\n",
       "</div>"
      ],
      "text/plain": [
       "     Creation Date     Status Completion Date Service Request Number  \\\n",
       "4297    04/14/2016  Completed      04/22/2016            16-02502456   \n",
       "\n",
       "        Type of Service Request What is the Nature of this Code Violation?  \\\n",
       "4297  Sanitation Code Violation                           Garbage in alley   \n",
       "\n",
       "          Street Address  ZIP Code  X Coordinate  Y Coordinate  Ward  \\\n",
       "4297  7500 S WOLCOTT AVE   60620.0  1.164988e+06  1.854895e+06    17   \n",
       "\n",
       "      Police District  Community Area   Latitude  Longitude  \\\n",
       "4297                6              71  41.757433 -87.670907   \n",
       "\n",
       "                                     Location  \n",
       "4297  (41.75743294325899, -87.67090742952253)  "
      ]
     },
     "execution_count": 97,
     "metadata": {},
     "output_type": "execute_result"
    }
   ],
   "source": [
    "sanitation[sanitation[\"Street Address\"] == \"7500 S WOLCOTT AVE\"]"
   ]
  },
  {
   "cell_type": "code",
   "execution_count": 98,
   "metadata": {
    "collapsed": false
   },
   "outputs": [
    {
     "data": {
      "text/html": [
       "<div>\n",
       "<table border=\"1\" class=\"dataframe\">\n",
       "  <thead>\n",
       "    <tr style=\"text-align: right;\">\n",
       "      <th></th>\n",
       "      <th>Creation Date</th>\n",
       "      <th>Status</th>\n",
       "      <th>Completion Date</th>\n",
       "      <th>Service Request Number</th>\n",
       "      <th>Type of Service Request</th>\n",
       "      <th>What is the Nature of this Code Violation?</th>\n",
       "      <th>Street Address</th>\n",
       "      <th>ZIP Code</th>\n",
       "      <th>X Coordinate</th>\n",
       "      <th>Y Coordinate</th>\n",
       "      <th>Ward</th>\n",
       "      <th>Police District</th>\n",
       "      <th>Community Area</th>\n",
       "      <th>Latitude</th>\n",
       "      <th>Longitude</th>\n",
       "      <th>Location</th>\n",
       "    </tr>\n",
       "  </thead>\n",
       "  <tbody>\n",
       "  </tbody>\n",
       "</table>\n",
       "</div>"
      ],
      "text/plain": [
       "Empty DataFrame\n",
       "Columns: [Creation Date, Status, Completion Date, Service Request Number, Type of Service Request, What is the Nature of this Code Violation?, Street Address, ZIP Code, X Coordinate, Y Coordinate, Ward, Police District, Community Area, Latitude, Longitude, Location]\n",
       "Index: []"
      ]
     },
     "execution_count": 98,
     "metadata": {},
     "output_type": "execute_result"
    }
   ],
   "source": [
    "sanitation[sanitation[\"Street Address\"] == \"7500 s wolcott ave\"]"
   ]
  },
  {
   "cell_type": "code",
   "execution_count": 99,
   "metadata": {
    "collapsed": false
   },
   "outputs": [
    {
     "data": {
      "text/html": [
       "<div>\n",
       "<table border=\"1\" class=\"dataframe\">\n",
       "  <thead>\n",
       "    <tr style=\"text-align: right;\">\n",
       "      <th></th>\n",
       "      <th>Creation Date</th>\n",
       "      <th>Status</th>\n",
       "      <th>Completion Date</th>\n",
       "      <th>Service Request Number</th>\n",
       "      <th>Type of Service Request</th>\n",
       "      <th>What is the Nature of this Code Violation?</th>\n",
       "      <th>Street Address</th>\n",
       "      <th>ZIP Code</th>\n",
       "      <th>X Coordinate</th>\n",
       "      <th>Y Coordinate</th>\n",
       "      <th>Ward</th>\n",
       "      <th>Police District</th>\n",
       "      <th>Community Area</th>\n",
       "      <th>Latitude</th>\n",
       "      <th>Longitude</th>\n",
       "      <th>Location</th>\n",
       "    </tr>\n",
       "  </thead>\n",
       "  <tbody>\n",
       "  </tbody>\n",
       "</table>\n",
       "</div>"
      ],
      "text/plain": [
       "Empty DataFrame\n",
       "Columns: [Creation Date, Status, Completion Date, Service Request Number, Type of Service Request, What is the Nature of this Code Violation?, Street Address, ZIP Code, X Coordinate, Y Coordinate, Ward, Police District, Community Area, Latitude, Longitude, Location]\n",
       "Index: []"
      ]
     },
     "execution_count": 99,
     "metadata": {},
     "output_type": "execute_result"
    }
   ],
   "source": [
    "sanitation[sanitation[\"Street Address\"] == \"7500 S Wolcott Ave\"]"
   ]
  },
  {
   "cell_type": "code",
   "execution_count": 100,
   "metadata": {
    "collapsed": false
   },
   "outputs": [
    {
     "data": {
      "text/plain": [
       "4.730592743270732e-05"
      ]
     },
     "execution_count": 100,
     "metadata": {},
     "output_type": "execute_result"
    }
   ],
   "source": [
    "1/sanitation.shape[0]\n",
    "#probability of this address making a request for sanitation"
   ]
  },
  {
   "cell_type": "markdown",
   "metadata": {},
   "source": [
    "# Potholes Database"
   ]
  },
  {
   "cell_type": "code",
   "execution_count": 101,
   "metadata": {
    "collapsed": true
   },
   "outputs": [],
   "source": [
    "potholes = pd.read_csv(\"311_Service_Requests_-_Pot_Holes_Reported.csv\")"
   ]
  },
  {
   "cell_type": "code",
   "execution_count": 102,
   "metadata": {
    "collapsed": false
   },
   "outputs": [
    {
     "data": {
      "text/html": [
       "<div>\n",
       "<table border=\"1\" class=\"dataframe\">\n",
       "  <thead>\n",
       "    <tr style=\"text-align: right;\">\n",
       "      <th></th>\n",
       "      <th>CREATION DATE</th>\n",
       "      <th>STATUS</th>\n",
       "      <th>COMPLETION DATE</th>\n",
       "      <th>SERVICE REQUEST NUMBER</th>\n",
       "      <th>TYPE OF SERVICE REQUEST</th>\n",
       "      <th>CURRENT ACTIVITY</th>\n",
       "      <th>MOST RECENT ACTION</th>\n",
       "      <th>NUMBER OF POTHOLES FILLED ON BLOCK</th>\n",
       "      <th>STREET ADDRESS</th>\n",
       "      <th>ZIP</th>\n",
       "      <th>X COORDINATE</th>\n",
       "      <th>Y COORDINATE</th>\n",
       "      <th>Ward</th>\n",
       "      <th>Police District</th>\n",
       "      <th>Community Area</th>\n",
       "      <th>SSA</th>\n",
       "      <th>LATITUDE</th>\n",
       "      <th>LONGITUDE</th>\n",
       "      <th>LOCATION</th>\n",
       "    </tr>\n",
       "  </thead>\n",
       "  <tbody>\n",
       "    <tr>\n",
       "      <th>0</th>\n",
       "      <td>01/01/2016</td>\n",
       "      <td>Completed - Dup</td>\n",
       "      <td>01/04/2016</td>\n",
       "      <td>16-00008394</td>\n",
       "      <td>Pothole in Street</td>\n",
       "      <td>NaN</td>\n",
       "      <td>NaN</td>\n",
       "      <td>NaN</td>\n",
       "      <td>3222 W WRIGHTWOOD AVE</td>\n",
       "      <td>60647.0</td>\n",
       "      <td>1.154274e+06</td>\n",
       "      <td>1.917103e+06</td>\n",
       "      <td>35.0</td>\n",
       "      <td>14.0</td>\n",
       "      <td>22.0</td>\n",
       "      <td>NaN</td>\n",
       "      <td>41.928471</td>\n",
       "      <td>-87.708225</td>\n",
       "      <td>(41.9284708494468, -87.70822483812339)</td>\n",
       "    </tr>\n",
       "  </tbody>\n",
       "</table>\n",
       "</div>"
      ],
      "text/plain": [
       "  CREATION DATE           STATUS COMPLETION DATE SERVICE REQUEST NUMBER  \\\n",
       "0    01/01/2016  Completed - Dup      01/04/2016            16-00008394   \n",
       "\n",
       "  TYPE OF SERVICE REQUEST CURRENT ACTIVITY MOST RECENT ACTION  \\\n",
       "0       Pothole in Street              NaN                NaN   \n",
       "\n",
       "   NUMBER OF POTHOLES FILLED ON BLOCK         STREET ADDRESS      ZIP  \\\n",
       "0                                 NaN  3222 W WRIGHTWOOD AVE  60647.0   \n",
       "\n",
       "   X COORDINATE  Y COORDINATE  Ward  Police District  Community Area  SSA  \\\n",
       "0  1.154274e+06  1.917103e+06  35.0             14.0            22.0  NaN   \n",
       "\n",
       "    LATITUDE  LONGITUDE                                LOCATION  \n",
       "0  41.928471 -87.708225  (41.9284708494468, -87.70822483812339)  "
      ]
     },
     "execution_count": 102,
     "metadata": {},
     "output_type": "execute_result"
    }
   ],
   "source": [
    "potholes.head(1)"
   ]
  },
  {
   "cell_type": "code",
   "execution_count": 103,
   "metadata": {
    "collapsed": false
   },
   "outputs": [
    {
     "data": {
      "text/plain": [
       "(51507, 19)"
      ]
     },
     "execution_count": 103,
     "metadata": {},
     "output_type": "execute_result"
    }
   ],
   "source": [
    "potholes.shape"
   ]
  },
  {
   "cell_type": "code",
   "execution_count": 104,
   "metadata": {
    "collapsed": false
   },
   "outputs": [
    {
     "data": {
      "text/html": [
       "<div>\n",
       "<table border=\"1\" class=\"dataframe\">\n",
       "  <thead>\n",
       "    <tr style=\"text-align: right;\">\n",
       "      <th></th>\n",
       "      <th>CREATION DATE</th>\n",
       "      <th>STATUS</th>\n",
       "      <th>COMPLETION DATE</th>\n",
       "      <th>SERVICE REQUEST NUMBER</th>\n",
       "      <th>TYPE OF SERVICE REQUEST</th>\n",
       "      <th>CURRENT ACTIVITY</th>\n",
       "      <th>MOST RECENT ACTION</th>\n",
       "      <th>NUMBER OF POTHOLES FILLED ON BLOCK</th>\n",
       "      <th>STREET ADDRESS</th>\n",
       "      <th>ZIP</th>\n",
       "      <th>X COORDINATE</th>\n",
       "      <th>Y COORDINATE</th>\n",
       "      <th>Ward</th>\n",
       "      <th>Police District</th>\n",
       "      <th>Community Area</th>\n",
       "      <th>SSA</th>\n",
       "      <th>LATITUDE</th>\n",
       "      <th>LONGITUDE</th>\n",
       "      <th>LOCATION</th>\n",
       "    </tr>\n",
       "  </thead>\n",
       "  <tbody>\n",
       "    <tr>\n",
       "      <th>23391</th>\n",
       "      <td>05/02/2016</td>\n",
       "      <td>Completed</td>\n",
       "      <td>07/12/2016</td>\n",
       "      <td>16-03005208</td>\n",
       "      <td>Pothole in Street</td>\n",
       "      <td>Final Outcome</td>\n",
       "      <td>Pothole Patched</td>\n",
       "      <td>3.0</td>\n",
       "      <td>7500 S WOLCOTT AVE</td>\n",
       "      <td>60620.0</td>\n",
       "      <td>1.164988e+06</td>\n",
       "      <td>1.854895e+06</td>\n",
       "      <td>17.0</td>\n",
       "      <td>6.0</td>\n",
       "      <td>71.0</td>\n",
       "      <td>NaN</td>\n",
       "      <td>41.757345</td>\n",
       "      <td>-87.671052</td>\n",
       "      <td>(41.75734524032, -87.67105156625242)</td>\n",
       "    </tr>\n",
       "  </tbody>\n",
       "</table>\n",
       "</div>"
      ],
      "text/plain": [
       "      CREATION DATE     STATUS COMPLETION DATE SERVICE REQUEST NUMBER  \\\n",
       "23391    05/02/2016  Completed      07/12/2016            16-03005208   \n",
       "\n",
       "      TYPE OF SERVICE REQUEST CURRENT ACTIVITY MOST RECENT ACTION  \\\n",
       "23391       Pothole in Street    Final Outcome    Pothole Patched   \n",
       "\n",
       "       NUMBER OF POTHOLES FILLED ON BLOCK      STREET ADDRESS      ZIP  \\\n",
       "23391                                 3.0  7500 S WOLCOTT AVE  60620.0   \n",
       "\n",
       "       X COORDINATE  Y COORDINATE  Ward  Police District  Community Area  SSA  \\\n",
       "23391  1.164988e+06  1.854895e+06  17.0              6.0            71.0  NaN   \n",
       "\n",
       "        LATITUDE  LONGITUDE                              LOCATION  \n",
       "23391  41.757345 -87.671052  (41.75734524032, -87.67105156625242)  "
      ]
     },
     "execution_count": 104,
     "metadata": {},
     "output_type": "execute_result"
    }
   ],
   "source": [
    "potholes[potholes[\"STREET ADDRESS\"] == \"7500 S WOLCOTT AVE\"]"
   ]
  },
  {
   "cell_type": "code",
   "execution_count": 105,
   "metadata": {
    "collapsed": false
   },
   "outputs": [
    {
     "data": {
      "text/html": [
       "<div>\n",
       "<table border=\"1\" class=\"dataframe\">\n",
       "  <thead>\n",
       "    <tr style=\"text-align: right;\">\n",
       "      <th></th>\n",
       "      <th>CREATION DATE</th>\n",
       "      <th>STATUS</th>\n",
       "      <th>COMPLETION DATE</th>\n",
       "      <th>SERVICE REQUEST NUMBER</th>\n",
       "      <th>TYPE OF SERVICE REQUEST</th>\n",
       "      <th>CURRENT ACTIVITY</th>\n",
       "      <th>MOST RECENT ACTION</th>\n",
       "      <th>NUMBER OF POTHOLES FILLED ON BLOCK</th>\n",
       "      <th>STREET ADDRESS</th>\n",
       "      <th>ZIP</th>\n",
       "      <th>X COORDINATE</th>\n",
       "      <th>Y COORDINATE</th>\n",
       "      <th>Ward</th>\n",
       "      <th>Police District</th>\n",
       "      <th>Community Area</th>\n",
       "      <th>SSA</th>\n",
       "      <th>LATITUDE</th>\n",
       "      <th>LONGITUDE</th>\n",
       "      <th>LOCATION</th>\n",
       "    </tr>\n",
       "  </thead>\n",
       "  <tbody>\n",
       "  </tbody>\n",
       "</table>\n",
       "</div>"
      ],
      "text/plain": [
       "Empty DataFrame\n",
       "Columns: [CREATION DATE, STATUS, COMPLETION DATE, SERVICE REQUEST NUMBER, TYPE OF SERVICE REQUEST, CURRENT ACTIVITY, MOST RECENT ACTION, NUMBER OF POTHOLES FILLED ON BLOCK, STREET ADDRESS, ZIP, X COORDINATE, Y COORDINATE, Ward, Police District, Community Area, SSA, LATITUDE, LONGITUDE, LOCATION]\n",
       "Index: []"
      ]
     },
     "execution_count": 105,
     "metadata": {},
     "output_type": "execute_result"
    }
   ],
   "source": [
    "potholes[potholes[\"STREET ADDRESS\"] == \"7500 S Wolcott Ave\"]"
   ]
  },
  {
   "cell_type": "code",
   "execution_count": 106,
   "metadata": {
    "collapsed": false
   },
   "outputs": [
    {
     "data": {
      "text/html": [
       "<div>\n",
       "<table border=\"1\" class=\"dataframe\">\n",
       "  <thead>\n",
       "    <tr style=\"text-align: right;\">\n",
       "      <th></th>\n",
       "      <th>CREATION DATE</th>\n",
       "      <th>STATUS</th>\n",
       "      <th>COMPLETION DATE</th>\n",
       "      <th>SERVICE REQUEST NUMBER</th>\n",
       "      <th>TYPE OF SERVICE REQUEST</th>\n",
       "      <th>CURRENT ACTIVITY</th>\n",
       "      <th>MOST RECENT ACTION</th>\n",
       "      <th>NUMBER OF POTHOLES FILLED ON BLOCK</th>\n",
       "      <th>STREET ADDRESS</th>\n",
       "      <th>ZIP</th>\n",
       "      <th>X COORDINATE</th>\n",
       "      <th>Y COORDINATE</th>\n",
       "      <th>Ward</th>\n",
       "      <th>Police District</th>\n",
       "      <th>Community Area</th>\n",
       "      <th>SSA</th>\n",
       "      <th>LATITUDE</th>\n",
       "      <th>LONGITUDE</th>\n",
       "      <th>LOCATION</th>\n",
       "    </tr>\n",
       "  </thead>\n",
       "  <tbody>\n",
       "  </tbody>\n",
       "</table>\n",
       "</div>"
      ],
      "text/plain": [
       "Empty DataFrame\n",
       "Columns: [CREATION DATE, STATUS, COMPLETION DATE, SERVICE REQUEST NUMBER, TYPE OF SERVICE REQUEST, CURRENT ACTIVITY, MOST RECENT ACTION, NUMBER OF POTHOLES FILLED ON BLOCK, STREET ADDRESS, ZIP, X COORDINATE, Y COORDINATE, Ward, Police District, Community Area, SSA, LATITUDE, LONGITUDE, LOCATION]\n",
       "Index: []"
      ]
     },
     "execution_count": 106,
     "metadata": {},
     "output_type": "execute_result"
    }
   ],
   "source": [
    "potholes[potholes[\"STREET ADDRESS\"] == \"7500 s wolcott ave\"]"
   ]
  },
  {
   "cell_type": "code",
   "execution_count": 107,
   "metadata": {
    "collapsed": false
   },
   "outputs": [
    {
     "data": {
      "text/plain": [
       "1.9414836818296542e-05"
      ]
     },
     "execution_count": 107,
     "metadata": {},
     "output_type": "execute_result"
    }
   ],
   "source": [
    "1/potholes.shape[0]\n",
    "#probability of this address making a request for potholes"
   ]
  },
  {
   "cell_type": "markdown",
   "metadata": {},
   "source": [
    "# Buildings Database"
   ]
  },
  {
   "cell_type": "code",
   "execution_count": 108,
   "metadata": {
    "collapsed": true
   },
   "outputs": [],
   "source": [
    "buildings = pd.read_csv(\"311_Service_Requests_-_Vacant_and_Abandoned_Buildings_Reported.csv\")"
   ]
  },
  {
   "cell_type": "code",
   "execution_count": 109,
   "metadata": {
    "collapsed": false
   },
   "outputs": [
    {
     "data": {
      "text/html": [
       "<div>\n",
       "<table border=\"1\" class=\"dataframe\">\n",
       "  <thead>\n",
       "    <tr style=\"text-align: right;\">\n",
       "      <th></th>\n",
       "      <th>SERVICE REQUEST TYPE</th>\n",
       "      <th>SERVICE REQUEST NUMBER</th>\n",
       "      <th>DATE SERVICE REQUEST WAS RECEIVED</th>\n",
       "      <th>LOCATION OF BUILDING ON THE LOT (IF GARAGE, CHANGE TYPE CODE TO BGD).</th>\n",
       "      <th>IS THE BUILDING DANGEROUS OR HAZARDOUS?</th>\n",
       "      <th>IS BUILDING OPEN OR BOARDED?</th>\n",
       "      <th>IF THE BUILDING IS OPEN, WHERE IS THE ENTRY POINT?</th>\n",
       "      <th>IS THE BUILDING CURRENTLY VACANT OR OCCUPIED?</th>\n",
       "      <th>IS THE BUILDING VACANT DUE TO FIRE?</th>\n",
       "      <th>ANY PEOPLE USING PROPERTY? (HOMELESS, CHILDEN, GANGS)</th>\n",
       "      <th>...</th>\n",
       "      <th>ADDRESS STREET SUFFIX</th>\n",
       "      <th>ZIP CODE</th>\n",
       "      <th>X COORDINATE</th>\n",
       "      <th>Y COORDINATE</th>\n",
       "      <th>Ward</th>\n",
       "      <th>Police District</th>\n",
       "      <th>Community Area</th>\n",
       "      <th>LATITUDE</th>\n",
       "      <th>LONGITUDE</th>\n",
       "      <th>Location</th>\n",
       "    </tr>\n",
       "  </thead>\n",
       "  <tbody>\n",
       "    <tr>\n",
       "      <th>0</th>\n",
       "      <td>Vacant/Abandoned Building</td>\n",
       "      <td>16-00017936</td>\n",
       "      <td>01/02/2016</td>\n",
       "      <td>Front</td>\n",
       "      <td>NaN</td>\n",
       "      <td>Open</td>\n",
       "      <td>FRONT-SIDE AND REAR</td>\n",
       "      <td>Vacant</td>\n",
       "      <td>False</td>\n",
       "      <td>True</td>\n",
       "      <td>...</td>\n",
       "      <td>ST</td>\n",
       "      <td>60621.0</td>\n",
       "      <td>1.170327e+06</td>\n",
       "      <td>1.865488e+06</td>\n",
       "      <td>16.0</td>\n",
       "      <td>7.0</td>\n",
       "      <td>68.0</td>\n",
       "      <td>41.786386</td>\n",
       "      <td>-87.651033</td>\n",
       "      <td>(41.78638640364335, -87.65103294840148)</td>\n",
       "    </tr>\n",
       "  </tbody>\n",
       "</table>\n",
       "<p>1 rows × 23 columns</p>\n",
       "</div>"
      ],
      "text/plain": [
       "        SERVICE REQUEST TYPE SERVICE REQUEST NUMBER  \\\n",
       "0  Vacant/Abandoned Building            16-00017936   \n",
       "\n",
       "  DATE SERVICE REQUEST WAS RECEIVED  \\\n",
       "0                        01/02/2016   \n",
       "\n",
       "  LOCATION OF BUILDING ON THE LOT (IF GARAGE, CHANGE TYPE CODE TO BGD).  \\\n",
       "0                                              Front                      \n",
       "\n",
       "   IS THE BUILDING DANGEROUS OR HAZARDOUS? IS BUILDING OPEN OR BOARDED?  \\\n",
       "0                                      NaN                         Open   \n",
       "\n",
       "  IF THE BUILDING IS OPEN, WHERE IS THE ENTRY POINT?  \\\n",
       "0                                FRONT-SIDE AND REAR   \n",
       "\n",
       "  IS THE BUILDING CURRENTLY VACANT OR OCCUPIED?  \\\n",
       "0                                        Vacant   \n",
       "\n",
       "  IS THE BUILDING VACANT DUE TO FIRE?  \\\n",
       "0                               False   \n",
       "\n",
       "  ANY PEOPLE USING PROPERTY? (HOMELESS, CHILDEN, GANGS)  \\\n",
       "0                                               True      \n",
       "\n",
       "                    ...                     ADDRESS STREET SUFFIX ZIP CODE  \\\n",
       "0                   ...                                        ST  60621.0   \n",
       "\n",
       "   X COORDINATE  Y COORDINATE  Ward  Police District  Community Area  \\\n",
       "0  1.170327e+06  1.865488e+06  16.0              7.0            68.0   \n",
       "\n",
       "    LATITUDE  LONGITUDE                                 Location  \n",
       "0  41.786386 -87.651033  (41.78638640364335, -87.65103294840148)  \n",
       "\n",
       "[1 rows x 23 columns]"
      ]
     },
     "execution_count": 109,
     "metadata": {},
     "output_type": "execute_result"
    }
   ],
   "source": [
    "buildings.head(1)"
   ]
  },
  {
   "cell_type": "markdown",
   "metadata": {},
   "source": [
    "This database splits up the name of the address, thus we need to merge these columns and then proceed to search for our address."
   ]
  },
  {
   "cell_type": "markdown",
   "metadata": {},
   "source": [
    "Before doing this, let us just see if it is likely that our address is in the database."
   ]
  },
  {
   "cell_type": "code",
   "execution_count": 110,
   "metadata": {
    "collapsed": false
   },
   "outputs": [
    {
     "data": {
      "text/plain": [
       "SERVICE REQUEST TYPE                                                      object\n",
       "SERVICE REQUEST NUMBER                                                    object\n",
       "DATE SERVICE REQUEST WAS RECEIVED                                         object\n",
       "LOCATION OF BUILDING ON THE LOT (IF GARAGE, CHANGE TYPE CODE TO BGD).     object\n",
       "IS THE BUILDING DANGEROUS OR HAZARDOUS?                                  float64\n",
       "IS BUILDING OPEN OR BOARDED?                                              object\n",
       "IF THE BUILDING IS OPEN, WHERE IS THE ENTRY POINT?                        object\n",
       "IS THE BUILDING CURRENTLY VACANT OR OCCUPIED?                             object\n",
       "IS THE BUILDING VACANT DUE TO FIRE?                                       object\n",
       "ANY PEOPLE USING PROPERTY? (HOMELESS, CHILDEN, GANGS)                     object\n",
       "ADDRESS STREET NUMBER                                                      int64\n",
       "ADDRESS STREET DIRECTION                                                  object\n",
       "ADDRESS STREET NAME                                                       object\n",
       "ADDRESS STREET SUFFIX                                                     object\n",
       "ZIP CODE                                                                 float64\n",
       "X COORDINATE                                                             float64\n",
       "Y COORDINATE                                                             float64\n",
       "Ward                                                                     float64\n",
       "Police District                                                          float64\n",
       "Community Area                                                           float64\n",
       "LATITUDE                                                                 float64\n",
       "LONGITUDE                                                                float64\n",
       "Location                                                                  object\n",
       "dtype: object"
      ]
     },
     "execution_count": 110,
     "metadata": {},
     "output_type": "execute_result"
    }
   ],
   "source": [
    "buildings.dtypes"
   ]
  },
  {
   "cell_type": "markdown",
   "metadata": {},
   "source": [
    "We can see that the address number is an integer. Let us search for 7500!"
   ]
  },
  {
   "cell_type": "code",
   "execution_count": 111,
   "metadata": {
    "collapsed": false
   },
   "outputs": [
    {
     "name": "stdout",
     "output_type": "stream",
     "text": [
      "7500\n"
     ]
    }
   ],
   "source": [
    "for i in buildings[\"ADDRESS STREET NUMBER\"]:\n",
    "    if i == 7500:\n",
    "        print(i)"
   ]
  },
  {
   "cell_type": "markdown",
   "metadata": {},
   "source": [
    "It seems that we have one entry! Let's obtain it!"
   ]
  },
  {
   "cell_type": "code",
   "execution_count": 112,
   "metadata": {
    "collapsed": false
   },
   "outputs": [
    {
     "data": {
      "text/plain": [
       "453    DR MARTIN LUTHER KING JR\n",
       "Name: ADDRESS STREET NAME, dtype: object"
      ]
     },
     "execution_count": 112,
     "metadata": {},
     "output_type": "execute_result"
    }
   ],
   "source": [
    "buildings[buildings[\"ADDRESS STREET NUMBER\"] == 7500][\"ADDRESS STREET NAME\"]"
   ]
  },
  {
   "cell_type": "code",
   "execution_count": 113,
   "metadata": {
    "collapsed": false
   },
   "outputs": [
    {
     "data": {
      "text/plain": [
       "453    DR\n",
       "Name: ADDRESS STREET SUFFIX, dtype: object"
      ]
     },
     "execution_count": 113,
     "metadata": {},
     "output_type": "execute_result"
    }
   ],
   "source": [
    "buildings[buildings[\"ADDRESS STREET NUMBER\"] == 7500][\"ADDRESS STREET SUFFIX\"]"
   ]
  },
  {
   "cell_type": "code",
   "execution_count": 114,
   "metadata": {
    "collapsed": false
   },
   "outputs": [
    {
     "data": {
      "text/plain": [
       "453    S\n",
       "Name: ADDRESS STREET DIRECTION, dtype: object"
      ]
     },
     "execution_count": 114,
     "metadata": {},
     "output_type": "execute_result"
    }
   ],
   "source": [
    "buildings[buildings[\"ADDRESS STREET NUMBER\"] == 7500][\"ADDRESS STREET DIRECTION\"]"
   ]
  },
  {
   "cell_type": "markdown",
   "metadata": {},
   "source": [
    "From the above we can see that there is 7500 S Wolcott Ave in our database. Thus it has a 0 probability."
   ]
  },
  {
   "cell_type": "markdown",
   "metadata": {},
   "source": [
    "# Part B"
   ]
  },
  {
   "cell_type": "markdown",
   "metadata": {},
   "source": [
    "Our graffiti database does not have information of neighbourhoods. Now, we could reverse geocode the Zip codes to find this information, however, for the task at hand (dealing with 2 neighbouhods), that seems excessive and inefficicent.\n",
    "\n",
    "As such, a simple google search yields the ZipCodes for Lawndale and Uptown neighbourhoods."
   ]
  },
  {
   "cell_type": "code",
   "execution_count": 115,
   "metadata": {
    "collapsed": true
   },
   "outputs": [],
   "source": [
    "uptown_zip = [60613, 60640]\n",
    "lawn_zip = [60608, 60623, 60624]"
   ]
  },
  {
   "cell_type": "code",
   "execution_count": 116,
   "metadata": {
    "collapsed": false
   },
   "outputs": [
    {
     "data": {
      "text/plain": [
       "Creation Date                                object\n",
       "Status                                       object\n",
       "Completion Date                              object\n",
       "Service Request Number                       object\n",
       "Type of Service Request                      object\n",
       "What Type of Surface is the Graffiti on?     object\n",
       "Where is the Graffiti located?               object\n",
       "Street Address                               object\n",
       "ZIP Code                                    float64\n",
       "X Coordinate                                float64\n",
       "Y Coordinate                                float64\n",
       "Ward                                        float64\n",
       "Police District                             float64\n",
       "Community Area                              float64\n",
       "SSA                                         float64\n",
       "Latitude                                    float64\n",
       "Longitude                                   float64\n",
       "Location                                     object\n",
       "dtype: object"
      ]
     },
     "execution_count": 116,
     "metadata": {},
     "output_type": "execute_result"
    }
   ],
   "source": [
    "graffiti.dtypes"
   ]
  },
  {
   "cell_type": "code",
   "execution_count": 117,
   "metadata": {
    "collapsed": false
   },
   "outputs": [
    {
     "data": {
      "text/plain": [
       "(120461, 18)"
      ]
     },
     "execution_count": 117,
     "metadata": {},
     "output_type": "execute_result"
    }
   ],
   "source": [
    "graffiti.shape"
   ]
  },
  {
   "cell_type": "markdown",
   "metadata": {},
   "source": [
    "### Lawndale Probability\n",
    "4.3% chance of getting a call from the Lawndale Zip Codes"
   ]
  },
  {
   "cell_type": "code",
   "execution_count": 118,
   "metadata": {
    "collapsed": false
   },
   "outputs": [
    {
     "data": {
      "text/plain": [
       "(2757, 18)"
      ]
     },
     "execution_count": 118,
     "metadata": {},
     "output_type": "execute_result"
    }
   ],
   "source": [
    "graffiti[graffiti[\"ZIP Code\"] == 60613.0].shape"
   ]
  },
  {
   "cell_type": "code",
   "execution_count": 119,
   "metadata": {
    "collapsed": false
   },
   "outputs": [
    {
     "data": {
      "text/plain": [
       "(2462, 18)"
      ]
     },
     "execution_count": 119,
     "metadata": {},
     "output_type": "execute_result"
    }
   ],
   "source": [
    "graffiti[graffiti[\"ZIP Code\"] == 60640.0].shape"
   ]
  },
  {
   "cell_type": "code",
   "execution_count": 120,
   "metadata": {
    "collapsed": false
   },
   "outputs": [
    {
     "data": {
      "text/plain": [
       "4.3325225591685275"
      ]
     },
     "execution_count": 120,
     "metadata": {},
     "output_type": "execute_result"
    }
   ],
   "source": [
    "((2757+2462)/120461)*100"
   ]
  },
  {
   "cell_type": "markdown",
   "metadata": {},
   "source": [
    "### Uptown Probability\n",
    "10.9% chance of gettigna. call from the Uptown Zip Codes"
   ]
  },
  {
   "cell_type": "code",
   "execution_count": 121,
   "metadata": {
    "collapsed": false
   },
   "outputs": [
    {
     "data": {
      "text/plain": [
       "(8537, 18)"
      ]
     },
     "execution_count": 121,
     "metadata": {},
     "output_type": "execute_result"
    }
   ],
   "source": [
    "graffiti[graffiti[\"ZIP Code\"] == 60608.0].shape"
   ]
  },
  {
   "cell_type": "code",
   "execution_count": 122,
   "metadata": {
    "collapsed": false
   },
   "outputs": [
    {
     "data": {
      "text/plain": [
       "(4247, 18)"
      ]
     },
     "execution_count": 122,
     "metadata": {},
     "output_type": "execute_result"
    }
   ],
   "source": [
    "graffiti[graffiti[\"ZIP Code\"] == 60623.0].shape"
   ]
  },
  {
   "cell_type": "code",
   "execution_count": 123,
   "metadata": {
    "collapsed": false
   },
   "outputs": [
    {
     "data": {
      "text/plain": [
       "(399, 18)"
      ]
     },
     "execution_count": 123,
     "metadata": {},
     "output_type": "execute_result"
    }
   ],
   "source": [
    "graffiti[graffiti[\"ZIP Code\"] == 60624.0].shape"
   ]
  },
  {
   "cell_type": "code",
   "execution_count": 124,
   "metadata": {
    "collapsed": false
   },
   "outputs": [
    {
     "data": {
      "text/plain": [
       "10.943790936485668"
      ]
     },
     "execution_count": 124,
     "metadata": {},
     "output_type": "execute_result"
    }
   ],
   "source": [
    "((8537+4247+399)/120461)*100"
   ]
  },
  {
   "cell_type": "markdown",
   "metadata": {},
   "source": [
    "# PART C"
   ]
  },
  {
   "cell_type": "markdown",
   "metadata": {},
   "source": [
    "Personally, I would have liked to code out a simple probability tree to help illustrate this problem. However, I'll jump straight into the code. This is a simple conditional probability problem."
   ]
  },
  {
   "cell_type": "code",
   "execution_count": 125,
   "metadata": {
    "collapsed": true
   },
   "outputs": [],
   "source": [
    "prob_englewood = 0.6\n",
    "prob_uptown = 0.4\n",
    "\n",
    "#these represent the probability of the above areas getting a graffiti call.\n",
    "\n",
    "prob_englewood_graffiti = 1/6\n",
    "prob_englewood_non_graffiti = 5/6\n",
    "\n",
    "prob_uptown_graffiti = 0.4\n",
    "prob_uptown_non_graffiti = 0.6"
   ]
  },
  {
   "cell_type": "markdown",
   "metadata": {},
   "source": [
    "The question is:\n",
    "\n",
    "If a call comes about Graffiti Removal, how much more/less likely is it that the call came from Englewood versus Uptown?\n",
    "\n",
    "Thus we need to solve for $P(E|G)$  and $P(U|G)$\n",
    "\n",
    "Where $P(E|G) = \\frac{P(E \\cap G)}{P(G)}$ and $P(U|G) = \\frac{P(U \\cap G)}{P(G)}$\n",
    "\n",
    "Let $P(E|G)$ be eqn_1 and $P(U|G)$ be eqn_2"
   ]
  },
  {
   "cell_type": "code",
   "execution_count": 126,
   "metadata": {
    "collapsed": true
   },
   "outputs": [],
   "source": [
    "eqn_1 = (prob_englewood*prob_englewood_graffiti)/((prob_englewood*prob_englewood_graffiti)+(prob_uptown*prob_uptown_graffiti))"
   ]
  },
  {
   "cell_type": "code",
   "execution_count": 127,
   "metadata": {
    "collapsed": false
   },
   "outputs": [
    {
     "data": {
      "text/plain": [
       "0.3846153846153846"
      ]
     },
     "execution_count": 127,
     "metadata": {},
     "output_type": "execute_result"
    }
   ],
   "source": [
    "eqn_1"
   ]
  },
  {
   "cell_type": "code",
   "execution_count": 128,
   "metadata": {
    "collapsed": true
   },
   "outputs": [],
   "source": [
    "eqn_2 = (prob_uptown*prob_uptown_graffiti)/((prob_englewood*prob_englewood_graffiti)+(prob_uptown*prob_uptown_graffiti))"
   ]
  },
  {
   "cell_type": "code",
   "execution_count": 129,
   "metadata": {
    "collapsed": false
   },
   "outputs": [
    {
     "data": {
      "text/plain": [
       "0.6153846153846155"
      ]
     },
     "execution_count": 129,
     "metadata": {},
     "output_type": "execute_result"
    }
   ],
   "source": [
    "eqn_2"
   ]
  },
  {
   "cell_type": "markdown",
   "metadata": {},
   "source": [
    "Thus we can see that there is a higher probability in recieving a graffiti call from the Englewood Area"
   ]
  }
 ],
 "metadata": {
  "kernelspec": {
   "display_name": "Python [conda root]",
   "language": "python",
   "name": "conda-root-py"
  },
  "language_info": {
   "codemirror_mode": {
    "name": "ipython",
    "version": 3
   },
   "file_extension": ".py",
   "mimetype": "text/x-python",
   "name": "python",
   "nbconvert_exporter": "python",
   "pygments_lexer": "ipython3",
   "version": "3.5.2"
  }
 },
 "nbformat": 4,
 "nbformat_minor": 2
}
