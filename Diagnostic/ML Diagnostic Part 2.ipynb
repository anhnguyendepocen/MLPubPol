{
 "cells": [
  {
   "cell_type": "markdown",
   "metadata": {
    "deletable": true,
    "editable": true
   },
   "source": [
    "# PART 2 - CAPP 30254 DIAGNOSTIC"
   ]
  },
  {
   "cell_type": "code",
   "execution_count": 2,
   "metadata": {
    "collapsed": true,
    "deletable": true,
    "editable": true
   },
   "outputs": [],
   "source": [
    "import pandas as pd\n",
    "import numpy as np\n",
    "import requests\n",
    "import seaborn as sns\n",
    "sns.set(color_codes=True)\n",
    "import matplotlib.pyplot as plt\n",
    "plt.style.use('ggplot')"
   ]
  },
  {
   "cell_type": "markdown",
   "metadata": {
    "deletable": true,
    "editable": true
   },
   "source": [
    "I will focus on 'Vacant and Abandoned Buildings' and 'Sanitation'.\n",
    "\n",
    "In order to limit the number of requests, I will be focusing on the last 3 months of 2016.\n",
    "\n",
    "In particular, I aim to assess the income distribution per zip code for these two databases. This is due to API constraints - i.e. I need more time to wrangle with the API and FIPS codes to access information of Race/Family Size etc."
   ]
  },
  {
   "cell_type": "code",
   "execution_count": 3,
   "metadata": {
    "collapsed": false,
    "deletable": true,
    "editable": true
   },
   "outputs": [],
   "source": [
    "buildings = pd.read_csv(\"311_Service_Requests_-_Vacant_and_Abandoned_Buildings_Reported-3_months.csv\")"
   ]
  },
  {
   "cell_type": "code",
   "execution_count": 3,
   "metadata": {
    "collapsed": false,
    "deletable": true,
    "editable": true
   },
   "outputs": [
    {
     "data": {
      "text/html": [
       "<div>\n",
       "<table border=\"1\" class=\"dataframe\">\n",
       "  <thead>\n",
       "    <tr style=\"text-align: right;\">\n",
       "      <th></th>\n",
       "      <th>SERVICE REQUEST TYPE</th>\n",
       "      <th>SERVICE REQUEST NUMBER</th>\n",
       "      <th>DATE SERVICE REQUEST WAS RECEIVED</th>\n",
       "      <th>LOCATION OF BUILDING ON THE LOT (IF GARAGE, CHANGE TYPE CODE TO BGD).</th>\n",
       "      <th>IS THE BUILDING DANGEROUS OR HAZARDOUS?</th>\n",
       "      <th>IS BUILDING OPEN OR BOARDED?</th>\n",
       "      <th>IF THE BUILDING IS OPEN, WHERE IS THE ENTRY POINT?</th>\n",
       "      <th>IS THE BUILDING CURRENTLY VACANT OR OCCUPIED?</th>\n",
       "      <th>IS THE BUILDING VACANT DUE TO FIRE?</th>\n",
       "      <th>ANY PEOPLE USING PROPERTY? (HOMELESS, CHILDEN, GANGS)</th>\n",
       "      <th>...</th>\n",
       "      <th>ADDRESS STREET SUFFIX</th>\n",
       "      <th>ZIP CODE</th>\n",
       "      <th>X COORDINATE</th>\n",
       "      <th>Y COORDINATE</th>\n",
       "      <th>Ward</th>\n",
       "      <th>Police District</th>\n",
       "      <th>Community Area</th>\n",
       "      <th>LATITUDE</th>\n",
       "      <th>LONGITUDE</th>\n",
       "      <th>Location</th>\n",
       "    </tr>\n",
       "  </thead>\n",
       "  <tbody>\n",
       "    <tr>\n",
       "      <th>0</th>\n",
       "      <td>Vacant/Abandoned Building</td>\n",
       "      <td>16-06902848</td>\n",
       "      <td>10/01/2016</td>\n",
       "      <td>Rear</td>\n",
       "      <td>NaN</td>\n",
       "      <td>Open</td>\n",
       "      <td>BACK DOOR</td>\n",
       "      <td>Vacant</td>\n",
       "      <td>False</td>\n",
       "      <td>True</td>\n",
       "      <td>...</td>\n",
       "      <td>AVE</td>\n",
       "      <td>60628.0</td>\n",
       "      <td>1.177385e+06</td>\n",
       "      <td>1.837852e+06</td>\n",
       "      <td>9</td>\n",
       "      <td>5</td>\n",
       "      <td>49</td>\n",
       "      <td>41.710392</td>\n",
       "      <td>-87.62599</td>\n",
       "      <td>(41.710391684078424, -87.62598966616069)</td>\n",
       "    </tr>\n",
       "  </tbody>\n",
       "</table>\n",
       "<p>1 rows × 23 columns</p>\n",
       "</div>"
      ],
      "text/plain": [
       "        SERVICE REQUEST TYPE SERVICE REQUEST NUMBER  \\\n",
       "0  Vacant/Abandoned Building            16-06902848   \n",
       "\n",
       "  DATE SERVICE REQUEST WAS RECEIVED  \\\n",
       "0                        10/01/2016   \n",
       "\n",
       "  LOCATION OF BUILDING ON THE LOT (IF GARAGE, CHANGE TYPE CODE TO BGD).  \\\n",
       "0                                               Rear                      \n",
       "\n",
       "   IS THE BUILDING DANGEROUS OR HAZARDOUS? IS BUILDING OPEN OR BOARDED?  \\\n",
       "0                                      NaN                         Open   \n",
       "\n",
       "  IF THE BUILDING IS OPEN, WHERE IS THE ENTRY POINT?  \\\n",
       "0                                          BACK DOOR   \n",
       "\n",
       "  IS THE BUILDING CURRENTLY VACANT OR OCCUPIED?  \\\n",
       "0                                        Vacant   \n",
       "\n",
       "  IS THE BUILDING VACANT DUE TO FIRE?  \\\n",
       "0                               False   \n",
       "\n",
       "  ANY PEOPLE USING PROPERTY? (HOMELESS, CHILDEN, GANGS)  \\\n",
       "0                                               True      \n",
       "\n",
       "                     ...                     ADDRESS STREET SUFFIX ZIP CODE  \\\n",
       "0                    ...                                       AVE  60628.0   \n",
       "\n",
       "   X COORDINATE  Y COORDINATE  Ward  Police District  Community Area  \\\n",
       "0  1.177385e+06  1.837852e+06     9                5              49   \n",
       "\n",
       "    LATITUDE  LONGITUDE                                  Location  \n",
       "0  41.710392  -87.62599  (41.710391684078424, -87.62598966616069)  \n",
       "\n",
       "[1 rows x 23 columns]"
      ]
     },
     "execution_count": 3,
     "metadata": {},
     "output_type": "execute_result"
    }
   ],
   "source": [
    "buildings.head(1)"
   ]
  },
  {
   "cell_type": "code",
   "execution_count": 4,
   "metadata": {
    "collapsed": false,
    "deletable": true,
    "editable": true
   },
   "outputs": [
    {
     "data": {
      "text/plain": [
       "(702, 23)"
      ]
     },
     "execution_count": 4,
     "metadata": {},
     "output_type": "execute_result"
    }
   ],
   "source": [
    "buildings.shape"
   ]
  },
  {
   "cell_type": "code",
   "execution_count": 5,
   "metadata": {
    "collapsed": false,
    "deletable": true,
    "editable": true
   },
   "outputs": [
    {
     "data": {
      "text/plain": [
       "0"
      ]
     },
     "execution_count": 5,
     "metadata": {},
     "output_type": "execute_result"
    }
   ],
   "source": [
    "sum(pd.isnull(buildings[\"LATITUDE\"]))"
   ]
  },
  {
   "cell_type": "code",
   "execution_count": 6,
   "metadata": {
    "collapsed": false,
    "deletable": true,
    "editable": true
   },
   "outputs": [
    {
     "data": {
      "text/plain": [
       "0"
      ]
     },
     "execution_count": 6,
     "metadata": {},
     "output_type": "execute_result"
    }
   ],
   "source": [
    "sum(pd.isnull(buildings[\"LONGITUDE\"]))"
   ]
  },
  {
   "cell_type": "markdown",
   "metadata": {
    "deletable": true,
    "editable": true
   },
   "source": [
    "There are no null values for Lat and Lon. We will proceed with our analysis."
   ]
  },
  {
   "cell_type": "markdown",
   "metadata": {
    "deletable": true,
    "editable": true
   },
   "source": [
    "Upon querying the api - it seems that information is stored in 'blocks' called Federal Information Processing Series (FIPS).\n",
    "\n",
    "I will now create a function that obtain the fips blocks and stores them into a dataframe."
   ]
  },
  {
   "cell_type": "code",
   "execution_count": 7,
   "metadata": {
    "collapsed": true,
    "deletable": true,
    "editable": true
   },
   "outputs": [],
   "source": [
    "def scrape_fip_blocks(df):\n",
    "    blocks = []\n",
    "    for index, row in df.iterrows():\n",
    "        lat = row['LATITUDE']\n",
    "        lon = row['LONGITUDE']\n",
    "        html =\"http://data.fcc.gov/api/block/find?format=json&latitude={lat}&longitude={lon}&showall=false\".format(lat=lat, lon= lon)\n",
    "        r = requests.get(html)\n",
    "        json = r.json()\n",
    "        fips_info = json[\"Block\"][\"FIPS\"]\n",
    "        blocks.append(fips_info)\n",
    "        \n",
    "    fips_df = pd.DataFrame(blocks)\n",
    "    building_fips_df = pd.concat([df,fips_df], axis=1)\n",
    "    building_fips_df = building_fips_df.rename(columns={0 : \"FIPS_BLOCK_NUMBER\"})\n",
    "    \n",
    "    return building_fips_df"
   ]
  },
  {
   "cell_type": "code",
   "execution_count": 8,
   "metadata": {
    "collapsed": false,
    "deletable": true,
    "editable": true
   },
   "outputs": [],
   "source": [
    "building_fips_df = scrape_fip_blocks(buildings)"
   ]
  },
  {
   "cell_type": "code",
   "execution_count": 9,
   "metadata": {
    "collapsed": true,
    "deletable": true,
    "editable": true
   },
   "outputs": [],
   "source": [
    "building_fips_df.to_pickle(\"building_fips.pkl\")"
   ]
  },
  {
   "cell_type": "code",
   "execution_count": 10,
   "metadata": {
    "collapsed": true,
    "deletable": true,
    "editable": true
   },
   "outputs": [],
   "source": [
    "building_fips_df = pd.read_pickle(\"building_fips.pkl\")"
   ]
  },
  {
   "cell_type": "markdown",
   "metadata": {
    "deletable": true,
    "editable": true
   },
   "source": [
    "The above two lines of code refer to pickling. This is how we store large dataframes without haveing to reload/re-run old commands everytime we need to consult the dataframes. This is especially useful for large dataframes"
   ]
  },
  {
   "cell_type": "code",
   "execution_count": 11,
   "metadata": {
    "collapsed": false,
    "deletable": true,
    "editable": true
   },
   "outputs": [
    {
     "data": {
      "text/html": [
       "<div>\n",
       "<table border=\"1\" class=\"dataframe\">\n",
       "  <thead>\n",
       "    <tr style=\"text-align: right;\">\n",
       "      <th></th>\n",
       "      <th>SERVICE REQUEST TYPE</th>\n",
       "      <th>SERVICE REQUEST NUMBER</th>\n",
       "      <th>DATE SERVICE REQUEST WAS RECEIVED</th>\n",
       "      <th>LOCATION OF BUILDING ON THE LOT (IF GARAGE, CHANGE TYPE CODE TO BGD).</th>\n",
       "      <th>IS THE BUILDING DANGEROUS OR HAZARDOUS?</th>\n",
       "      <th>IS BUILDING OPEN OR BOARDED?</th>\n",
       "      <th>IF THE BUILDING IS OPEN, WHERE IS THE ENTRY POINT?</th>\n",
       "      <th>IS THE BUILDING CURRENTLY VACANT OR OCCUPIED?</th>\n",
       "      <th>IS THE BUILDING VACANT DUE TO FIRE?</th>\n",
       "      <th>ANY PEOPLE USING PROPERTY? (HOMELESS, CHILDEN, GANGS)</th>\n",
       "      <th>...</th>\n",
       "      <th>ZIP CODE</th>\n",
       "      <th>X COORDINATE</th>\n",
       "      <th>Y COORDINATE</th>\n",
       "      <th>Ward</th>\n",
       "      <th>Police District</th>\n",
       "      <th>Community Area</th>\n",
       "      <th>LATITUDE</th>\n",
       "      <th>LONGITUDE</th>\n",
       "      <th>Location</th>\n",
       "      <th>FIPS_BLOCK_NUMBER</th>\n",
       "    </tr>\n",
       "  </thead>\n",
       "  <tbody>\n",
       "    <tr>\n",
       "      <th>0</th>\n",
       "      <td>Vacant/Abandoned Building</td>\n",
       "      <td>16-06902848</td>\n",
       "      <td>10/01/2016</td>\n",
       "      <td>Rear</td>\n",
       "      <td>NaN</td>\n",
       "      <td>Open</td>\n",
       "      <td>BACK DOOR</td>\n",
       "      <td>Vacant</td>\n",
       "      <td>False</td>\n",
       "      <td>True</td>\n",
       "      <td>...</td>\n",
       "      <td>60628.0</td>\n",
       "      <td>1.177385e+06</td>\n",
       "      <td>1.837852e+06</td>\n",
       "      <td>9</td>\n",
       "      <td>5</td>\n",
       "      <td>49</td>\n",
       "      <td>41.710392</td>\n",
       "      <td>-87.62599</td>\n",
       "      <td>(41.710391684078424, -87.62598966616069)</td>\n",
       "      <td>170314907002004</td>\n",
       "    </tr>\n",
       "  </tbody>\n",
       "</table>\n",
       "<p>1 rows × 24 columns</p>\n",
       "</div>"
      ],
      "text/plain": [
       "        SERVICE REQUEST TYPE SERVICE REQUEST NUMBER  \\\n",
       "0  Vacant/Abandoned Building            16-06902848   \n",
       "\n",
       "  DATE SERVICE REQUEST WAS RECEIVED  \\\n",
       "0                        10/01/2016   \n",
       "\n",
       "  LOCATION OF BUILDING ON THE LOT (IF GARAGE, CHANGE TYPE CODE TO BGD).  \\\n",
       "0                                               Rear                      \n",
       "\n",
       "   IS THE BUILDING DANGEROUS OR HAZARDOUS? IS BUILDING OPEN OR BOARDED?  \\\n",
       "0                                      NaN                         Open   \n",
       "\n",
       "  IF THE BUILDING IS OPEN, WHERE IS THE ENTRY POINT?  \\\n",
       "0                                          BACK DOOR   \n",
       "\n",
       "  IS THE BUILDING CURRENTLY VACANT OR OCCUPIED?  \\\n",
       "0                                        Vacant   \n",
       "\n",
       "  IS THE BUILDING VACANT DUE TO FIRE?  \\\n",
       "0                               False   \n",
       "\n",
       "  ANY PEOPLE USING PROPERTY? (HOMELESS, CHILDEN, GANGS)        ...          \\\n",
       "0                                               True           ...           \n",
       "\n",
       "   ZIP CODE  X COORDINATE  Y COORDINATE Ward  Police District  Community Area  \\\n",
       "0   60628.0  1.177385e+06  1.837852e+06    9                5              49   \n",
       "\n",
       "    LATITUDE  LONGITUDE                                  Location  \\\n",
       "0  41.710392  -87.62599  (41.710391684078424, -87.62598966616069)   \n",
       "\n",
       "   FIPS_BLOCK_NUMBER  \n",
       "0    170314907002004  \n",
       "\n",
       "[1 rows x 24 columns]"
      ]
     },
     "execution_count": 11,
     "metadata": {},
     "output_type": "execute_result"
    }
   ],
   "source": [
    "building_fips_df.head(1)"
   ]
  },
  {
   "cell_type": "code",
   "execution_count": 12,
   "metadata": {
    "collapsed": true,
    "deletable": true,
    "editable": true
   },
   "outputs": [],
   "source": [
    "def scrape_income(df):\n",
    "    \"\"\"\n",
    "    Function that retrieves the INCOME AND BENEFITS (IN 2015 INFLATION-ADJUSTED DOLLARS)!!Total households based on a FIPS\n",
    "    \"\"\"\n",
    "    avg_income_list=[]\n",
    "    \n",
    "    for index, row in df.iterrows():\n",
    "        state = row[\"FIPS_BLOCK_NUMBER\"][0:2]\n",
    "        county = row[\"FIPS_BLOCK_NUMBER\"][2:5]\n",
    "        tract = row[\"FIPS_BLOCK_NUMBER\"][5:11]\n",
    "        html =\"http://api.census.gov/data/2015/acs5/profile?get=DP03_0051E,NAME&for=tract:{tract}&in=state:{state}+county:{county}&key=5114f013c5c3a46e13d51564a7d6411436e2b063\".format(state=state, county= county, tract=tract)\n",
    "        r = requests.get(html)\n",
    "        if r.status_code!=204: #204 corresponds to no content.\n",
    "            json = r.json()\n",
    "            income_amount= json[1][0]\n",
    "\n",
    "            avg_income_list.append(income_amount)\n",
    "    \n",
    "    income = pd.DataFrame(avg_income_list)\n",
    "    buildings_income_df = pd.concat([df,income], axis=1)\n",
    "    buildings_income_df = buildings_income_df.rename(columns={0 : \"Average Income\"})\n",
    "    \n",
    "    return buildings_income_df"
   ]
  },
  {
   "cell_type": "code",
   "execution_count": 13,
   "metadata": {
    "collapsed": false,
    "deletable": true,
    "editable": true
   },
   "outputs": [],
   "source": [
    "buildings_income_df = scrape_income(building_fips_df)"
   ]
  },
  {
   "cell_type": "code",
   "execution_count": 14,
   "metadata": {
    "collapsed": true,
    "deletable": true,
    "editable": true
   },
   "outputs": [],
   "source": [
    "buildings_income_df.to_pickle(\"buildings_income.pkl\")"
   ]
  },
  {
   "cell_type": "code",
   "execution_count": 15,
   "metadata": {
    "collapsed": true,
    "deletable": true,
    "editable": true
   },
   "outputs": [],
   "source": [
    "buildings_income_df = pd.read_pickle(\"buildings_income.pkl\")"
   ]
  },
  {
   "cell_type": "code",
   "execution_count": 16,
   "metadata": {
    "collapsed": false,
    "deletable": true,
    "editable": true
   },
   "outputs": [
    {
     "data": {
      "text/html": [
       "<div>\n",
       "<table border=\"1\" class=\"dataframe\">\n",
       "  <thead>\n",
       "    <tr style=\"text-align: right;\">\n",
       "      <th></th>\n",
       "      <th>SERVICE REQUEST TYPE</th>\n",
       "      <th>SERVICE REQUEST NUMBER</th>\n",
       "      <th>DATE SERVICE REQUEST WAS RECEIVED</th>\n",
       "      <th>LOCATION OF BUILDING ON THE LOT (IF GARAGE, CHANGE TYPE CODE TO BGD).</th>\n",
       "      <th>IS THE BUILDING DANGEROUS OR HAZARDOUS?</th>\n",
       "      <th>IS BUILDING OPEN OR BOARDED?</th>\n",
       "      <th>IF THE BUILDING IS OPEN, WHERE IS THE ENTRY POINT?</th>\n",
       "      <th>IS THE BUILDING CURRENTLY VACANT OR OCCUPIED?</th>\n",
       "      <th>IS THE BUILDING VACANT DUE TO FIRE?</th>\n",
       "      <th>ANY PEOPLE USING PROPERTY? (HOMELESS, CHILDEN, GANGS)</th>\n",
       "      <th>...</th>\n",
       "      <th>X COORDINATE</th>\n",
       "      <th>Y COORDINATE</th>\n",
       "      <th>Ward</th>\n",
       "      <th>Police District</th>\n",
       "      <th>Community Area</th>\n",
       "      <th>LATITUDE</th>\n",
       "      <th>LONGITUDE</th>\n",
       "      <th>Location</th>\n",
       "      <th>FIPS_BLOCK_NUMBER</th>\n",
       "      <th>Average Income</th>\n",
       "    </tr>\n",
       "  </thead>\n",
       "  <tbody>\n",
       "    <tr>\n",
       "      <th>0</th>\n",
       "      <td>Vacant/Abandoned Building</td>\n",
       "      <td>16-06902848</td>\n",
       "      <td>10/01/2016</td>\n",
       "      <td>Rear</td>\n",
       "      <td>NaN</td>\n",
       "      <td>Open</td>\n",
       "      <td>BACK DOOR</td>\n",
       "      <td>Vacant</td>\n",
       "      <td>False</td>\n",
       "      <td>True</td>\n",
       "      <td>...</td>\n",
       "      <td>1.177385e+06</td>\n",
       "      <td>1.837852e+06</td>\n",
       "      <td>9</td>\n",
       "      <td>5</td>\n",
       "      <td>49</td>\n",
       "      <td>41.710392</td>\n",
       "      <td>-87.62599</td>\n",
       "      <td>(41.710391684078424, -87.62598966616069)</td>\n",
       "      <td>170314907002004</td>\n",
       "      <td>891</td>\n",
       "    </tr>\n",
       "  </tbody>\n",
       "</table>\n",
       "<p>1 rows × 25 columns</p>\n",
       "</div>"
      ],
      "text/plain": [
       "        SERVICE REQUEST TYPE SERVICE REQUEST NUMBER  \\\n",
       "0  Vacant/Abandoned Building            16-06902848   \n",
       "\n",
       "  DATE SERVICE REQUEST WAS RECEIVED  \\\n",
       "0                        10/01/2016   \n",
       "\n",
       "  LOCATION OF BUILDING ON THE LOT (IF GARAGE, CHANGE TYPE CODE TO BGD).  \\\n",
       "0                                               Rear                      \n",
       "\n",
       "   IS THE BUILDING DANGEROUS OR HAZARDOUS? IS BUILDING OPEN OR BOARDED?  \\\n",
       "0                                      NaN                         Open   \n",
       "\n",
       "  IF THE BUILDING IS OPEN, WHERE IS THE ENTRY POINT?  \\\n",
       "0                                          BACK DOOR   \n",
       "\n",
       "  IS THE BUILDING CURRENTLY VACANT OR OCCUPIED?  \\\n",
       "0                                        Vacant   \n",
       "\n",
       "  IS THE BUILDING VACANT DUE TO FIRE?  \\\n",
       "0                               False   \n",
       "\n",
       "  ANY PEOPLE USING PROPERTY? (HOMELESS, CHILDEN, GANGS)       ...        \\\n",
       "0                                               True          ...         \n",
       "\n",
       "   X COORDINATE  Y COORDINATE Ward Police District  Community Area   LATITUDE  \\\n",
       "0  1.177385e+06  1.837852e+06    9               5              49  41.710392   \n",
       "\n",
       "   LONGITUDE                                  Location  FIPS_BLOCK_NUMBER  \\\n",
       "0  -87.62599  (41.710391684078424, -87.62598966616069)    170314907002004   \n",
       "\n",
       "   Average Income  \n",
       "0             891  \n",
       "\n",
       "[1 rows x 25 columns]"
      ]
     },
     "execution_count": 16,
     "metadata": {},
     "output_type": "execute_result"
    }
   ],
   "source": [
    "buildings_income_df.head(1)"
   ]
  },
  {
   "cell_type": "code",
   "execution_count": 17,
   "metadata": {
    "collapsed": false,
    "deletable": true,
    "editable": true
   },
   "outputs": [
    {
     "data": {
      "text/plain": [
       "str"
      ]
     },
     "execution_count": 17,
     "metadata": {},
     "output_type": "execute_result"
    }
   ],
   "source": [
    "type(buildings_income_df[\"Average Income\"][0])"
   ]
  },
  {
   "cell_type": "markdown",
   "metadata": {
    "deletable": true,
    "editable": true
   },
   "source": [
    "From the above we can see that out entries for average income are strings. We need to change these to integers so that we can create a nice graph!"
   ]
  },
  {
   "cell_type": "code",
   "execution_count": 18,
   "metadata": {
    "collapsed": true,
    "deletable": true,
    "editable": true
   },
   "outputs": [],
   "source": [
    "temp = list(buildings_income_df[\"Average Income\"])"
   ]
  },
  {
   "cell_type": "code",
   "execution_count": 19,
   "metadata": {
    "collapsed": true,
    "deletable": true,
    "editable": true
   },
   "outputs": [],
   "source": [
    "int_temp = [int(x) for x in temp]"
   ]
  },
  {
   "cell_type": "code",
   "execution_count": 20,
   "metadata": {
    "collapsed": false,
    "deletable": true,
    "editable": true
   },
   "outputs": [
    {
     "data": {
      "text/plain": [
       "int"
      ]
     },
     "execution_count": 20,
     "metadata": {},
     "output_type": "execute_result"
    }
   ],
   "source": [
    "type(int_temp[0]) #Success."
   ]
  },
  {
   "cell_type": "markdown",
   "metadata": {
    "deletable": true,
    "editable": true
   },
   "source": [
    "Now we need to add this back onto our dataframe!"
   ]
  },
  {
   "cell_type": "code",
   "execution_count": 21,
   "metadata": {
    "collapsed": true,
    "deletable": true,
    "editable": true
   },
   "outputs": [],
   "source": [
    "buildings_income_df.drop([\"Average Income\"], axis=1, inplace=True)"
   ]
  },
  {
   "cell_type": "code",
   "execution_count": 22,
   "metadata": {
    "collapsed": false,
    "deletable": true,
    "editable": true
   },
   "outputs": [],
   "source": [
    "pd_int_temp = pd.DataFrame({\"Average Income\": int_temp})"
   ]
  },
  {
   "cell_type": "code",
   "execution_count": 23,
   "metadata": {
    "collapsed": true,
    "deletable": true,
    "editable": true
   },
   "outputs": [],
   "source": [
    "buildings_income_df = pd.concat([buildings_income_df, pd_int_temp], axis=1)"
   ]
  },
  {
   "cell_type": "markdown",
   "metadata": {
    "deletable": true,
    "editable": true
   },
   "source": [
    "Now I will plot the distrubiton of average income grouped by ZipCode. Our dataframe displayes the average income per house, we will classify these houses into ZipCodes and then obtain the average income of those groups. This is what will be plotted."
   ]
  },
  {
   "cell_type": "code",
   "execution_count": 25,
   "metadata": {
    "collapsed": false,
    "deletable": true,
    "editable": true
   },
   "outputs": [],
   "source": [
    "income_dist = pd.DataFrame(buildings_income_df['Average Income'].groupby(buildings_income_df['ZIP CODE']).describe().unstack()['mean'].sort_values(ascending=True,inplace=False))"
   ]
  },
  {
   "cell_type": "code",
   "execution_count": 26,
   "metadata": {
    "collapsed": false,
    "deletable": true,
    "editable": true
   },
   "outputs": [
    {
     "data": {
      "image/png": "[encoded data removed]",
      "text/plain": [
       "<matplotlib.figure.Figure at 0x112644b38>"
      ]
     },
     "metadata": {},
     "output_type": "display_data"
    }
   ],
   "source": [
    "income_dist.plot(kind=\"barh\",figsize=(16, 12))\n",
    "plt.title(\"Income Distribution per Zip Code\")\n",
    "plt.xlabel(\"Average Income (Thousands)\")\n",
    "plt.ylabel(\"Zip Codes\")\n",
    "plt.show()"
   ]
  },
  {
   "cell_type": "markdown",
   "metadata": {
    "deletable": true,
    "editable": true
   },
   "source": [
    "I would repeat the same analysis for sanitation, however, after restricting it to the last 3 months, I was faced with over 5000 records."
   ]
  },
  {
   "cell_type": "markdown",
   "metadata": {},
   "source": [
    "An interesting assessment from the above graph is a re-iteration of the income divide in Chicago.\n",
    "\n",
    "60605 refers to the downtown core and 60636 refers to the englewood neighbourhood.\n",
    "\n",
    "The downtown core is extrmemly affluent, whereas englewood suffered from high levels of poverty and violence.\n",
    "\n",
    "The graph below is consistent with our finidings in that the most neglected urban infrastructure and reports occur in the most impoverished neighbourhoods."
   ]
  },
  {
   "cell_type": "code",
   "execution_count": 4,
   "metadata": {
    "collapsed": false
   },
   "outputs": [
    {
     "data": {
      "image/png": "[encoded data removed]",
      "text/plain": [
       "<matplotlib.figure.Figure at 0x1120dd160>"
      ]
     },
     "metadata": {},
     "output_type": "display_data"
    }
   ],
   "source": [
    "hist_zip = buildings[\"ZIP CODE\"].value_counts()\n",
    "\n",
    "plt.figure(figsize=(16,12))\n",
    "graph=sns.countplot(y='ZIP CODE', saturation=1, data=buildings, order=hist_zip.index)\n",
    "plt.title(\"ZIP Code Histogram\")\n",
    "plt.xlabel(\"Requests\")\n",
    "plt.ylabel(\"Zip Codes\")\n",
    "plt.show()"
   ]
  },
  {
   "cell_type": "code",
   "execution_count": null,
   "metadata": {
    "collapsed": true
   },
   "outputs": [],
   "source": []
  }
 ],
 "metadata": {
  "kernelspec": {
   "display_name": "Python [conda root]",
   "language": "python",
   "name": "conda-root-py"
  },
  "language_info": {
   "codemirror_mode": {
    "name": "ipython",
    "version": 3
   },
   "file_extension": ".py",
   "mimetype": "text/x-python",
   "name": "python",
   "nbconvert_exporter": "python",
   "pygments_lexer": "ipython3",
   "version": "3.5.2"
  }
 },
 "nbformat": 4,
 "nbformat_minor": 2
}
